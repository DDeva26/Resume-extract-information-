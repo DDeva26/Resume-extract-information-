{
 "cells": [
  {
   "cell_type": "markdown",
   "metadata": {},
   "source": [
    "# Resume classifier"
   ]
  },
  {
   "cell_type": "code",
   "execution_count": 1,
   "metadata": {},
   "outputs": [],
   "source": [
    "import cv2\n",
    "import numpy as np\n",
    "import imutils\n",
    "import pytesseract\n",
    "import pdf_to_image\n",
    "import os\n",
    "import time\n",
    "import shutil"
   ]
  },
  {
   "cell_type": "code",
   "execution_count": 2,
   "metadata": {},
   "outputs": [],
   "source": [
    "def isloate_text(filename):\n",
    "    os.mkdir('pages')\n",
    "    path = 'data/' + filename\n",
    "    if filename[-3:] == 'pdf' or filename[-3:] == 'PDF':\n",
    "        pdf_to_image.pdfToImages(path)\n",
    "    else:\n",
    "        img = cv2.imread(path)\n",
    "        cv2.imwrite('pages/' + filename, img)\n",
    "    i = 1\n",
    "    for page in os.listdir('pages/'):\n",
    "        path = 'pages/' + page\n",
    "        rgb = cv2.imread(path)\n",
    "        rgb = imutils.resize(rgb, width = int(rgb.shape[1]/4))\n",
    "        small = cv2.cvtColor(rgb, cv2.COLOR_BGR2GRAY)\n",
    "\n",
    "        _, bw = cv2.threshold(small, 0.0, 255.0, cv2.THRESH_BINARY_INV | cv2.THRESH_OTSU)\n",
    "\n",
    "        kernel = cv2.getStructuringElement(cv2.MORPH_RECT, (20, 1))\n",
    "        connected = cv2.morphologyEx(bw, cv2.MORPH_CLOSE, kernel)\n",
    "\n",
    "        contours, hierarchy = cv2.findContours(connected.copy(), cv2.RETR_EXTERNAL, cv2.CHAIN_APPROX_NONE)\n",
    "\n",
    "        with open('headers.txt') as f:\n",
    "            lines = f.read().upper().splitlines()\n",
    "\n",
    "        header_cords = []\n",
    "\n",
    "        for idx in range(len(contours)):\n",
    "            x, y, w, h = cv2.boundingRect(contours[idx])\n",
    "            cv2.rectangle(rgb, (x, y, x+w, y+h), (0, 0, 255), 2)\n",
    "            try:\n",
    "                cropped = rgb[y-5:y+h+5, x-5:x+w+5]\n",
    "                text = pytesseract.image_to_string(cropped)\n",
    "            except:\n",
    "                continue\n",
    "            text = text.lower()\n",
    "            print(text)\n",
    "            if text in lines or text[:-1] in lines:\n",
    "                if text[len(text) - 1] != '.':\n",
    "                    header_cords.append([x, y, x+w, y+h])\n",
    "        cv2.imwrite('result/' + filename[:-4] + '-' + str(i) + '.jpg', rgb)\n",
    "        i = i + 1\n",
    "    shutil.rmtree('./pages/')\n",
    "    return header_cords"
   ]
  },
  {
   "cell_type": "code",
   "execution_count": 3,
   "metadata": {
    "scrolled": true
   },
   "outputs": [
    {
     "name": "stdout",
     "output_type": "stream",
     "text": [
      "Working on: Cyber-Security-Resume-Example.jpg\n",
      "Time taken: 14.455924034118652 seconds\n",
      "Working on: Data-Analyst-Resume-Example-Template.jpg\n",
      "Time taken: 2.392705202102661 seconds\n",
      "Working on: data-scientist-resume-example-template.jpg\n",
      "Time taken: 1.3082523345947266 seconds\n",
      "Working on: Entry-Level-Software-Engineer-Resume-Sample-1.jpg\n",
      "Time taken: 0.7675607204437256 seconds\n",
      "Working on: Front-End-Developer-Resume-Example.jpg\n",
      "Time taken: 5.034142255783081 seconds\n",
      "Working on: Full-Stack-Developer-Resume-Example.jpg\n",
      "Time taken: 1.2552680969238281 seconds\n",
      "Working on: Help-Desk-Resume-Sample-Template.jpg\n",
      "Time taken: 0.9814395904541016 seconds\n",
      "Working on: Information-Technology-Resume-Example-Template.jpg\n",
      "Time taken: 1.0663871765136719 seconds\n",
      "Working on: IT-Project-Manager-Resume-Template.jpg\n",
      "Time taken: 1.6520745754241943 seconds\n",
      "Working on: Java-Developer-Resume-Sample-Template.jpg\n",
      "Time taken: 1.4221851825714111 seconds\n",
      "Working on: Net-Developer-Resume-Sample.jpg\n",
      "Time taken: 1.0583956241607666 seconds\n",
      "Working on: Network-Administrator-Resume-Sample-Template.jpg\n",
      "Time taken: 1.1813547611236572 seconds\n",
      "Working on: Network-Engineer-Resume-Sample.jpg\n",
      "Time taken: 0.8525125980377197 seconds\n",
      "Working on: Product-Manager-Resume-Example_Template.jpg\n",
      "Time taken: 1.8789699077606201 seconds\n",
      "Working on: Programmer-Resume-Sample.jpg\n",
      "Time taken: 1.4692389965057373 seconds\n",
      "Working on: QA-Tester-Resume-Sample-Template.jpg\n",
      "Time taken: 1.8729283809661865 seconds\n",
      "Working on: Scrum-Master-Resume-Example-Template.jpg\n",
      "Time taken: 1.3882102966308594 seconds\n",
      "Working on: Software-Engineer-Resume-Example-Template.jpg\n",
      "Time taken: 2.1217849254608154 seconds\n",
      "Working on: SQL-Developer-Resume-Sample-1.jpg\n",
      "Time taken: 1.0104224681854248 seconds\n",
      "Working on: System-Administrator-Resume-Sample.jpg\n",
      "Time taken: 0.9224808216094971 seconds\n",
      "Working on: UX-Designer-Resume-Sample.jpg\n",
      "Time taken: 0.9434587955474854 seconds\n",
      "Working on: Web-Designer-Resume-Sample.jpg\n",
      "Time taken: 0.7085971832275391 seconds\n",
      "Working on: Web-Developer-Resume-Example-Template.jpg\n",
      "Time taken: 3.0802578926086426 seconds\n",
      "Total time taken: 48.824551820755005 seconds\n",
      "Average time taken: 2.1228066009023916 seconds\n"
     ]
    }
   ],
   "source": [
    "total = 0\n",
    "count = 0\n",
    "for each in os.listdir('data/'):\n",
    "    start = time.time()\n",
    "    print('Working on: ' + each)\n",
    "    isloate_text(each)\n",
    "    total_time = time.time() - start\n",
    "    print('Time taken: ' + str(total_time) + ' seconds')\n",
    "    total = total + total_time\n",
    "    count = count + 1\n",
    "print('Total time taken: ' + str(total) + ' seconds')\n",
    "print('Average time taken: ' + str(total/count) + ' seconds')"
   ]
  },
  {
   "cell_type": "markdown",
   "metadata": {},
   "source": [
    "# Resume Parser  with GUI"
   ]
  },
  {
   "cell_type": "code",
   "execution_count": 4,
   "metadata": {},
   "outputs": [],
   "source": [
    "import os\n",
    "import flask\n",
    "import pickle\n",
    "import sys, fitz\n",
    "from flask import Flask, request, url_for, render_template, send_from_directory\n",
    "from itertools import *\n",
    "import time\n",
    "import random\n",
    "\n",
    "import spacy\n",
    "import sqlite3"
   ]
  },
  {
   "cell_type": "code",
   "execution_count": 5,
   "metadata": {},
   "outputs": [],
   "source": [
    "UPLOAD_FOLDER = os.path.dirname(os.path.abspath(\"__file__\")) + '/uploads/'"
   ]
  },
  {
   "cell_type": "code",
   "execution_count": 6,
   "metadata": {},
   "outputs": [],
   "source": [
    "model_path = './model/model_2/'\n",
    "model = spacy.load(model_path)\n",
    "\n",
    "app = Flask(__name__, static_url_path=\"/static\")\n",
    "DIR_PATH = os.path.dirname(os.path.abspath(\"__file__\"))\n",
    "app.config['UPLOAD_FOLDER'] = UPLOAD_FOLDER"
   ]
  },
  {
   "cell_type": "code",
   "execution_count": 7,
   "metadata": {},
   "outputs": [],
   "source": [
    "@app.route('/uploads/<filename>')\n",
    "def uploaded_file(filename):\n",
    "   return send_from_directory(app.config['DOWNLOAD_FOLDER'], filename, as_attachment=True)\n",
    "\n",
    "@app.route('/', methods=['GET', 'POST'])\n",
    "def main():\n",
    "    if request.method == 'POST':\n",
    "        f = request.files.getlist('files')\n",
    "        result = []\n",
    "\n",
    "        for file in f:\n",
    "            if file:\n",
    "                filename = file.filename\n",
    "                file.save(os.path.join(app.config['UPLOAD_FOLDER'], filename))\n",
    "\n",
    "                upload_dir = os.path.join(app.config['UPLOAD_FOLDER'], filename)\n",
    "                \n",
    "                doc = fitz.open(upload_dir)\n",
    "                text = \"\"\n",
    "                for page in doc:\n",
    "                    text = text + str(page.getText())\n",
    "                \n",
    "                tx = \"\".join(text.split('\\n'))\n",
    "                doc = model(tx)\n",
    "                # entities = {key: list(g) for key, g in groupby(sorted(doc.ents, key=lambda x: x.label_), lambda x: x.label_)}\n",
    "                entities = {key: list(set(map(lambda x: str(x), g))) for key, g in groupby(sorted(doc.ents, key=lambda x: x.label_), lambda x: x.label_)}\n",
    "\n",
    "                result.append(entities)\n",
    "\n",
    "        return render_template('result.html', result=result)\n",
    "\n",
    "    return render_template('index.html')"
   ]
  },
  {
   "cell_type": "code",
   "execution_count": null,
   "metadata": {},
   "outputs": [
    {
     "name": "stdout",
     "output_type": "stream",
     "text": [
      " * Serving Flask app \"__main__\" (lazy loading)\n",
      " * Environment: production\n",
      "   WARNING: This is a development server. Do not use it in a production deployment.\n",
      "   Use a production WSGI server instead.\n",
      " * Debug mode: off\n"
     ]
    },
    {
     "name": "stderr",
     "output_type": "stream",
     "text": [
      " * Running on http://127.0.0.1:5000/ (Press CTRL+C to quit)\n",
      "127.0.0.1 - - [13/May/2021 11:09:34] \"\u001b[37mGET / HTTP/1.1\u001b[0m\" 200 -\n",
      "mupdf: cannot recognize version marker\n",
      "mupdf: invalid key in dict\n",
      "mupdf: no objects found\n",
      "[2021-05-13 11:10:01,193] ERROR in app: Exception on / [POST]\n",
      "Traceback (most recent call last):\n",
      "  File \"C:\\Users\\hp\\anaconda3\\lib\\site-packages\\flask\\app.py\", line 2447, in wsgi_app\n",
      "    response = self.full_dispatch_request()\n",
      "  File \"C:\\Users\\hp\\anaconda3\\lib\\site-packages\\flask\\app.py\", line 1952, in full_dispatch_request\n",
      "    rv = self.handle_user_exception(e)\n",
      "  File \"C:\\Users\\hp\\anaconda3\\lib\\site-packages\\flask\\app.py\", line 1821, in handle_user_exception\n",
      "    reraise(exc_type, exc_value, tb)\n",
      "  File \"C:\\Users\\hp\\anaconda3\\lib\\site-packages\\flask\\_compat.py\", line 39, in reraise\n",
      "    raise value\n",
      "  File \"C:\\Users\\hp\\anaconda3\\lib\\site-packages\\flask\\app.py\", line 1950, in full_dispatch_request\n",
      "    rv = self.dispatch_request()\n",
      "  File \"C:\\Users\\hp\\anaconda3\\lib\\site-packages\\flask\\app.py\", line 1936, in dispatch_request\n",
      "    return self.view_functions[rule.endpoint](**req.view_args)\n",
      "  File \"<ipython-input-7-9775ca9249f2>\", line 18, in main\n",
      "    doc = fitz.open(upload_dir)\n",
      "  File \"C:\\Users\\hp\\anaconda3\\lib\\site-packages\\fitz\\fitz.py\", line 3653, in __init__\n",
      "    _fitz.new_Document(\n",
      "RuntimeError: no objects found\n",
      "127.0.0.1 - - [13/May/2021 11:10:02] \"\u001b[35m\u001b[1mPOST / HTTP/1.1\u001b[0m\" 500 -\n",
      "127.0.0.1 - - [13/May/2021 11:10:13] \"\u001b[37mGET / HTTP/1.1\u001b[0m\" 200 -\n",
      "127.0.0.1 - - [13/May/2021 11:10:36] \"\u001b[37mPOST / HTTP/1.1\u001b[0m\" 200 -\n"
     ]
    }
   ],
   "source": [
    "if __name__ == '__main__':\n",
    "    app.run()"
   ]
  },
  {
   "cell_type": "code",
   "execution_count": null,
   "metadata": {},
   "outputs": [],
   "source": []
  }
 ],
 "metadata": {
  "kernelspec": {
   "display_name": "Python 3",
   "language": "python",
   "name": "python3"
  },
  "language_info": {
   "codemirror_mode": {
    "name": "ipython",
    "version": 3
   },
   "file_extension": ".py",
   "mimetype": "text/x-python",
   "name": "python",
   "nbconvert_exporter": "python",
   "pygments_lexer": "ipython3",
   "version": "3.8.3"
  }
 },
 "nbformat": 4,
 "nbformat_minor": 4
}
